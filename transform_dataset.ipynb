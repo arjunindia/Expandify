{
 "cells": [
  {
   "cell_type": "code",
   "execution_count": null,
   "metadata": {
    "collapsed": true
   },
   "outputs": [],
   "source": [
    "import os\n",
    "import zipfile\n",
    "\n",
    "async def handle_upload(self, files):\n",
    "        self.is_uploading = True\n",
    "        if not os.path.exists(self.files_path):\n",
    "            os.makedirs(self.files_path, 0o755)\n",
    "        for file in files:\n",
    "            upload_data = await file.read()\n",
    "            output_filepath = self.files_path + file.filename\n",
    "            with open(output_filepath, \"wb\") as file_object:\n",
    "                file_object.write(upload_data)\n",
    "            with zipfile.ZipFile(output_filepath, \"r\") as zipf:\n",
    "                zipf.extractall(self.files_path)\n",
    "        return self.show_files"
   ]
  }
 ],
 "metadata": {
  "kernelspec": {
   "display_name": "Python 3",
   "language": "python",
   "name": "python3"
  },
  "language_info": {
   "codemirror_mode": {
    "name": "ipython",
    "version": 2
   },
   "file_extension": ".py",
   "mimetype": "text/x-python",
   "name": "python",
   "nbconvert_exporter": "python",
   "pygments_lexer": "ipython2",
   "version": "2.7.6"
  }
 },
 "nbformat": 4,
 "nbformat_minor": 0
}
